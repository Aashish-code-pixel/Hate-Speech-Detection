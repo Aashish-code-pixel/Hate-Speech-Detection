import pandas as pd
import seaborn as sns
import matplotlib.pyplot as plt
from wordcloud import WordCloud

# Load cleaned dataset
df = pd.read_csv("../data/cleaned_data.csv")

# Class distribution
sns.countplot(x="label", data=df)
plt.title("Hate Speech vs. Normal Text")
plt.savefig("../reports/class_distribution.png")
plt.show()

# Generate word cloud for hate speech
hate_text = " ".join(df[df["label"] == 1]["cleaned_text"])
wordcloud = WordCloud(width=800, height=400, background_color='white').generate(hate_text)
plt.figure(figsize=(10, 6))
plt.imshow(wordcloud, interpolation="bilinear")
plt.axis("off")
plt.savefig("../reports/wordcloud.png")
plt.show()
